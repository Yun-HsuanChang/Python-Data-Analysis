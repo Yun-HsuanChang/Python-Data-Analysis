{
 "cells": [
  {
   "cell_type": "markdown",
   "id": "5f159b5e-11e8-493d-93c3-f726c451f8ea",
   "metadata": {},
   "source": [
    "### 消費者評分與折扣多寡的相關性"
   ]
  },
  {
   "cell_type": "markdown",
   "id": "6b6e50ad-4627-46c9-a45c-b41198ee3a2a",
   "metadata": {},
   "source": [
    "## 分析目標"
   ]
  },
  {
   "cell_type": "markdown",
   "id": "2498d511-1c24-4c23-9cd3-7837f192fec1",
   "metadata": {},
   "source": [
    "##### 折扣的多寡是否會影響消費者評分。"
   ]
  },
  {
   "cell_type": "markdown",
   "id": "c4713e21-c68a-4dcc-b75d-00adaf80ac9e",
   "metadata": {},
   "source": [
    "## 簡介\n",
    "##### 該資料集包含超過一千筆亞馬遜產品的評分、評論、價格等資訊，資料來自亞馬遜官方網站上所列出的詳細資訊。"
   ]
  },
  {
   "cell_type": "markdown",
   "id": "578be5c4-b826-4013-946d-285e3e33a8b8",
   "metadata": {},
   "source": [
    "##### 變數含義：\n",
    "\n",
    "##### product_id：產品 ID\n",
    "\n",
    "##### product_name：產品名稱\n",
    "\n",
    "##### category：產品分類\n",
    "\n",
    "##### discounted_price：產品的折扣價格\n",
    "\n",
    "##### actual_price：產品的原價（未折扣前的價格）\n",
    "\n",
    "##### discount_percentage：產品折扣的百分比\n",
    "\n",
    "##### rating：消費者評分\n",
    "\n",
    "##### rating_count：參與評分的消費者數量\n",
    "\n",
    "##### about_product：產品描述\n",
    "\n",
    "##### user_id：撰寫評論的消費者 ID\n",
    "\n",
    "##### user_name：撰寫評論的消費者名稱\n",
    "\n",
    "##### review_id：評論 ID\n",
    "\n",
    "##### review_title：簡短的評論標題\n",
    "\n",
    "##### review_content：評論內容\n",
    "\n",
    "##### img_link：產品圖片連結\n",
    "\n",
    "##### product_link：產品官網連結"
   ]
  },
  {
   "cell_type": "code",
   "execution_count": 6,
   "id": "ddb738c1-f2e0-4c71-b619-76865d2db7a2",
   "metadata": {},
   "outputs": [],
   "source": [
    "import pandas as pd\n",
    "import numpy as np"
   ]
  },
  {
   "cell_type": "markdown",
   "id": "f7e46280-c499-4c8a-bed5-dd4478161fb9",
   "metadata": {},
   "source": [
    "### 讀取資料"
   ]
  },
  {
   "cell_type": "markdown",
   "id": "31e2beaf-1617-4f1e-a48d-8f7291e26fe3",
   "metadata": {},
   "source": [
    "#### 檢查數據結構"
   ]
  },
  {
   "cell_type": "code",
   "execution_count": 110,
   "id": "a5c848f5-3bf3-402d-94a1-40a765ef394b",
   "metadata": {},
   "outputs": [
    {
     "data": {
      "text/html": [
       "<div>\n",
       "<style scoped>\n",
       "    .dataframe tbody tr th:only-of-type {\n",
       "        vertical-align: middle;\n",
       "    }\n",
       "\n",
       "    .dataframe tbody tr th {\n",
       "        vertical-align: top;\n",
       "    }\n",
       "\n",
       "    .dataframe thead th {\n",
       "        text-align: right;\n",
       "    }\n",
       "</style>\n",
       "<table border=\"1\" class=\"dataframe\">\n",
       "  <thead>\n",
       "    <tr style=\"text-align: right;\">\n",
       "      <th></th>\n",
       "      <th>product_id</th>\n",
       "      <th>product_name</th>\n",
       "      <th>category</th>\n",
       "      <th>discounted_price</th>\n",
       "      <th>actual_price</th>\n",
       "      <th>discount_percentage</th>\n",
       "      <th>rating</th>\n",
       "      <th>rating_count</th>\n",
       "      <th>about_product</th>\n",
       "      <th>user_id</th>\n",
       "      <th>user_name</th>\n",
       "      <th>review_id</th>\n",
       "      <th>review_title</th>\n",
       "      <th>review_content</th>\n",
       "      <th>img_link</th>\n",
       "      <th>product_link</th>\n",
       "    </tr>\n",
       "  </thead>\n",
       "  <tbody>\n",
       "    <tr>\n",
       "      <th>0</th>\n",
       "      <td>B07JW9H4J1</td>\n",
       "      <td>Wayona Nylon Braided USB to Lightning Fast Cha...</td>\n",
       "      <td>Computers&amp;Accessories|Accessories&amp;Peripherals|...</td>\n",
       "      <td>₹399</td>\n",
       "      <td>₹1,099</td>\n",
       "      <td>64%</td>\n",
       "      <td>4.2</td>\n",
       "      <td>24,269</td>\n",
       "      <td>High Compatibility : Compatible With iPhone 12...</td>\n",
       "      <td>AG3D6O4STAQKAY2UVGEUV46KN35Q,AHMY5CWJMMK5BJRBB...</td>\n",
       "      <td>Manav,Adarsh gupta,Sundeep,S.Sayeed Ahmed,jasp...</td>\n",
       "      <td>R3HXWT0LRP0NMF,R2AJM3LFTLZHFO,R6AQJGUP6P86,R1K...</td>\n",
       "      <td>Satisfied,Charging is really fast,Value for mo...</td>\n",
       "      <td>Looks durable Charging is fine tooNo complains...</td>\n",
       "      <td>https://m.media-amazon.com/images/W/WEBP_40237...</td>\n",
       "      <td>https://www.amazon.in/Wayona-Braided-WN3LG1-Sy...</td>\n",
       "    </tr>\n",
       "    <tr>\n",
       "      <th>1</th>\n",
       "      <td>B098NS6PVG</td>\n",
       "      <td>Ambrane Unbreakable 60W / 3A Fast Charging 1.5...</td>\n",
       "      <td>Computers&amp;Accessories|Accessories&amp;Peripherals|...</td>\n",
       "      <td>₹199</td>\n",
       "      <td>₹349</td>\n",
       "      <td>43%</td>\n",
       "      <td>4.0</td>\n",
       "      <td>43,994</td>\n",
       "      <td>Compatible with all Type C enabled devices, be...</td>\n",
       "      <td>AECPFYFQVRUWC3KGNLJIOREFP5LQ,AGYYVPDD7YG7FYNBX...</td>\n",
       "      <td>ArdKn,Nirbhay kumar,Sagar Viswanathan,Asp,Plac...</td>\n",
       "      <td>RGIQEG07R9HS2,R1SMWZQ86XIN8U,R2J3Y1WL29GWDE,RY...</td>\n",
       "      <td>A Good Braided Cable for Your Type C Device,Go...</td>\n",
       "      <td>I ordered this cable to connect my phone to An...</td>\n",
       "      <td>https://m.media-amazon.com/images/W/WEBP_40237...</td>\n",
       "      <td>https://www.amazon.in/Ambrane-Unbreakable-Char...</td>\n",
       "    </tr>\n",
       "    <tr>\n",
       "      <th>2</th>\n",
       "      <td>B096MSW6CT</td>\n",
       "      <td>Sounce Fast Phone Charging Cable &amp; Data Sync U...</td>\n",
       "      <td>Computers&amp;Accessories|Accessories&amp;Peripherals|...</td>\n",
       "      <td>₹199</td>\n",
       "      <td>₹1,899</td>\n",
       "      <td>90%</td>\n",
       "      <td>3.9</td>\n",
       "      <td>7,928</td>\n",
       "      <td>【 Fast Charger&amp; Data Sync】-With built-in safet...</td>\n",
       "      <td>AGU3BBQ2V2DDAMOAKGFAWDDQ6QHA,AESFLDV2PT363T2AQ...</td>\n",
       "      <td>Kunal,Himanshu,viswanath,sai niharka,saqib mal...</td>\n",
       "      <td>R3J3EQQ9TZI5ZJ,R3E7WBGK7ID0KV,RWU79XKQ6I1QF,R2...</td>\n",
       "      <td>Good speed for earlier versions,Good Product,W...</td>\n",
       "      <td>Not quite durable and sturdy,https://m.media-a...</td>\n",
       "      <td>https://m.media-amazon.com/images/W/WEBP_40237...</td>\n",
       "      <td>https://www.amazon.in/Sounce-iPhone-Charging-C...</td>\n",
       "    </tr>\n",
       "    <tr>\n",
       "      <th>3</th>\n",
       "      <td>B08HDJ86NZ</td>\n",
       "      <td>boAt Deuce USB 300 2 in 1 Type-C &amp; Micro USB S...</td>\n",
       "      <td>Computers&amp;Accessories|Accessories&amp;Peripherals|...</td>\n",
       "      <td>₹329</td>\n",
       "      <td>₹699</td>\n",
       "      <td>53%</td>\n",
       "      <td>4.2</td>\n",
       "      <td>94,363</td>\n",
       "      <td>The boAt Deuce USB 300 2 in 1 cable is compati...</td>\n",
       "      <td>AEWAZDZZJLQUYVOVGBEUKSLXHQ5A,AG5HTSFRRE6NL3M5S...</td>\n",
       "      <td>Omkar dhale,JD,HEMALATHA,Ajwadh a.,amar singh ...</td>\n",
       "      <td>R3EEUZKKK9J36I,R3HJVYCLYOY554,REDECAZ7AMPQC,R1...</td>\n",
       "      <td>Good product,Good one,Nice,Really nice product...</td>\n",
       "      <td>Good product,long wire,Charges good,Nice,I bou...</td>\n",
       "      <td>https://m.media-amazon.com/images/I/41V5FtEWPk...</td>\n",
       "      <td>https://www.amazon.in/Deuce-300-Resistant-Tang...</td>\n",
       "    </tr>\n",
       "    <tr>\n",
       "      <th>4</th>\n",
       "      <td>B08CF3B7N1</td>\n",
       "      <td>Portronics Konnect L 1.2M Fast Charging 3A 8 P...</td>\n",
       "      <td>Computers&amp;Accessories|Accessories&amp;Peripherals|...</td>\n",
       "      <td>₹154</td>\n",
       "      <td>₹399</td>\n",
       "      <td>61%</td>\n",
       "      <td>4.2</td>\n",
       "      <td>16,905</td>\n",
       "      <td>[CHARGE &amp; SYNC FUNCTION]- This cable comes wit...</td>\n",
       "      <td>AE3Q6KSUK5P75D5HFYHCRAOLODSA,AFUGIFH5ZAFXRDSZH...</td>\n",
       "      <td>rahuls6099,Swasat Borah,Ajay Wadke,Pranali,RVK...</td>\n",
       "      <td>R1BP4L2HH9TFUP,R16PVJEXKV6QZS,R2UPDB81N66T4P,R...</td>\n",
       "      <td>As good as original,Decent,Good one for second...</td>\n",
       "      <td>Bought this instead of original apple, does th...</td>\n",
       "      <td>https://m.media-amazon.com/images/W/WEBP_40237...</td>\n",
       "      <td>https://www.amazon.in/Portronics-Konnect-POR-1...</td>\n",
       "    </tr>\n",
       "  </tbody>\n",
       "</table>\n",
       "</div>"
      ],
      "text/plain": [
       "   product_id                                       product_name  \\\n",
       "0  B07JW9H4J1  Wayona Nylon Braided USB to Lightning Fast Cha...   \n",
       "1  B098NS6PVG  Ambrane Unbreakable 60W / 3A Fast Charging 1.5...   \n",
       "2  B096MSW6CT  Sounce Fast Phone Charging Cable & Data Sync U...   \n",
       "3  B08HDJ86NZ  boAt Deuce USB 300 2 in 1 Type-C & Micro USB S...   \n",
       "4  B08CF3B7N1  Portronics Konnect L 1.2M Fast Charging 3A 8 P...   \n",
       "\n",
       "                                            category discounted_price  \\\n",
       "0  Computers&Accessories|Accessories&Peripherals|...             ₹399   \n",
       "1  Computers&Accessories|Accessories&Peripherals|...             ₹199   \n",
       "2  Computers&Accessories|Accessories&Peripherals|...             ₹199   \n",
       "3  Computers&Accessories|Accessories&Peripherals|...             ₹329   \n",
       "4  Computers&Accessories|Accessories&Peripherals|...             ₹154   \n",
       "\n",
       "  actual_price discount_percentage rating rating_count  \\\n",
       "0       ₹1,099                 64%    4.2       24,269   \n",
       "1         ₹349                 43%    4.0       43,994   \n",
       "2       ₹1,899                 90%    3.9        7,928   \n",
       "3         ₹699                 53%    4.2       94,363   \n",
       "4         ₹399                 61%    4.2       16,905   \n",
       "\n",
       "                                       about_product  \\\n",
       "0  High Compatibility : Compatible With iPhone 12...   \n",
       "1  Compatible with all Type C enabled devices, be...   \n",
       "2  【 Fast Charger& Data Sync】-With built-in safet...   \n",
       "3  The boAt Deuce USB 300 2 in 1 cable is compati...   \n",
       "4  [CHARGE & SYNC FUNCTION]- This cable comes wit...   \n",
       "\n",
       "                                             user_id  \\\n",
       "0  AG3D6O4STAQKAY2UVGEUV46KN35Q,AHMY5CWJMMK5BJRBB...   \n",
       "1  AECPFYFQVRUWC3KGNLJIOREFP5LQ,AGYYVPDD7YG7FYNBX...   \n",
       "2  AGU3BBQ2V2DDAMOAKGFAWDDQ6QHA,AESFLDV2PT363T2AQ...   \n",
       "3  AEWAZDZZJLQUYVOVGBEUKSLXHQ5A,AG5HTSFRRE6NL3M5S...   \n",
       "4  AE3Q6KSUK5P75D5HFYHCRAOLODSA,AFUGIFH5ZAFXRDSZH...   \n",
       "\n",
       "                                           user_name  \\\n",
       "0  Manav,Adarsh gupta,Sundeep,S.Sayeed Ahmed,jasp...   \n",
       "1  ArdKn,Nirbhay kumar,Sagar Viswanathan,Asp,Plac...   \n",
       "2  Kunal,Himanshu,viswanath,sai niharka,saqib mal...   \n",
       "3  Omkar dhale,JD,HEMALATHA,Ajwadh a.,amar singh ...   \n",
       "4  rahuls6099,Swasat Borah,Ajay Wadke,Pranali,RVK...   \n",
       "\n",
       "                                           review_id  \\\n",
       "0  R3HXWT0LRP0NMF,R2AJM3LFTLZHFO,R6AQJGUP6P86,R1K...   \n",
       "1  RGIQEG07R9HS2,R1SMWZQ86XIN8U,R2J3Y1WL29GWDE,RY...   \n",
       "2  R3J3EQQ9TZI5ZJ,R3E7WBGK7ID0KV,RWU79XKQ6I1QF,R2...   \n",
       "3  R3EEUZKKK9J36I,R3HJVYCLYOY554,REDECAZ7AMPQC,R1...   \n",
       "4  R1BP4L2HH9TFUP,R16PVJEXKV6QZS,R2UPDB81N66T4P,R...   \n",
       "\n",
       "                                        review_title  \\\n",
       "0  Satisfied,Charging is really fast,Value for mo...   \n",
       "1  A Good Braided Cable for Your Type C Device,Go...   \n",
       "2  Good speed for earlier versions,Good Product,W...   \n",
       "3  Good product,Good one,Nice,Really nice product...   \n",
       "4  As good as original,Decent,Good one for second...   \n",
       "\n",
       "                                      review_content  \\\n",
       "0  Looks durable Charging is fine tooNo complains...   \n",
       "1  I ordered this cable to connect my phone to An...   \n",
       "2  Not quite durable and sturdy,https://m.media-a...   \n",
       "3  Good product,long wire,Charges good,Nice,I bou...   \n",
       "4  Bought this instead of original apple, does th...   \n",
       "\n",
       "                                            img_link  \\\n",
       "0  https://m.media-amazon.com/images/W/WEBP_40237...   \n",
       "1  https://m.media-amazon.com/images/W/WEBP_40237...   \n",
       "2  https://m.media-amazon.com/images/W/WEBP_40237...   \n",
       "3  https://m.media-amazon.com/images/I/41V5FtEWPk...   \n",
       "4  https://m.media-amazon.com/images/W/WEBP_40237...   \n",
       "\n",
       "                                        product_link  \n",
       "0  https://www.amazon.in/Wayona-Braided-WN3LG1-Sy...  \n",
       "1  https://www.amazon.in/Ambrane-Unbreakable-Char...  \n",
       "2  https://www.amazon.in/Sounce-iPhone-Charging-C...  \n",
       "3  https://www.amazon.in/Deuce-300-Resistant-Tang...  \n",
       "4  https://www.amazon.in/Portronics-Konnect-POR-1...  "
      ]
     },
     "execution_count": 110,
     "metadata": {},
     "output_type": "execute_result"
    }
   ],
   "source": [
    "original_data=pd.read_csv(\"amazon.csv\")\n",
    "original_data.head()"
   ]
  },
  {
   "cell_type": "markdown",
   "id": "f445f174-3455-4c00-a4c8-6b65c5913ed1",
   "metadata": {},
   "source": [
    "##### 符合每一列一筆觀察值，每一欄為一個變量，數據結構整齊。"
   ]
  },
  {
   "cell_type": "markdown",
   "id": "96807ff9-5b7e-49c7-94cb-6b3ed05d708d",
   "metadata": {},
   "source": [
    "#### 評估數據乾淨度"
   ]
  },
  {
   "cell_type": "code",
   "execution_count": 12,
   "id": "95761b88-971c-4896-94fd-3b7294481f6f",
   "metadata": {},
   "outputs": [
    {
     "name": "stdout",
     "output_type": "stream",
     "text": [
      "<class 'pandas.core.frame.DataFrame'>\n",
      "RangeIndex: 1465 entries, 0 to 1464\n",
      "Data columns (total 16 columns):\n",
      " #   Column               Non-Null Count  Dtype \n",
      "---  ------               --------------  ----- \n",
      " 0   product_id           1465 non-null   object\n",
      " 1   product_name         1465 non-null   object\n",
      " 2   category             1465 non-null   object\n",
      " 3   discounted_price     1465 non-null   object\n",
      " 4   actual_price         1465 non-null   object\n",
      " 5   discount_percentage  1465 non-null   object\n",
      " 6   rating               1465 non-null   object\n",
      " 7   rating_count         1463 non-null   object\n",
      " 8   about_product        1465 non-null   object\n",
      " 9   user_id              1465 non-null   object\n",
      " 10  user_name            1465 non-null   object\n",
      " 11  review_id            1465 non-null   object\n",
      " 12  review_title         1465 non-null   object\n",
      " 13  review_content       1465 non-null   object\n",
      " 14  img_link             1465 non-null   object\n",
      " 15  product_link         1465 non-null   object\n",
      "dtypes: object(16)\n",
      "memory usage: 183.3+ KB\n"
     ]
    }
   ],
   "source": [
    "cleaned_data=original_data.copy()\n",
    "cleaned_data.info()"
   ]
  },
  {
   "cell_type": "markdown",
   "id": "1305ebac-7dea-484b-99c0-b8ad8c3203eb",
   "metadata": {},
   "source": [
    "##### rating_count存在缺失值。"
   ]
  },
  {
   "cell_type": "markdown",
   "id": "d525b098-428f-4dda-8cca-88afe9e76221",
   "metadata": {},
   "source": [
    "#####  discounted_price,actual_price,discount_percentage,rating,rating_count的資料型態應為數字。"
   ]
  },
  {
   "cell_type": "markdown",
   "id": "53f613bd-e096-405d-8ccd-a22bd9c15e89",
   "metadata": {},
   "source": [
    "##### 將discount_percentage分群以方便後續做分析。"
   ]
  },
  {
   "cell_type": "code",
   "execution_count": 16,
   "id": "1f82616a-9108-4b4f-9c34-fbcbb94fecd2",
   "metadata": {},
   "outputs": [],
   "source": [
    "cleaned_data[\"discounted_price\"]=cleaned_data[\"discounted_price\"].str.replace(\"₹\",\"\")\n",
    "cleaned_data[\"discounted_price\"]=cleaned_data[\"discounted_price\"].str.replace(\",\",\"\")\n",
    "cleaned_data[\"discounted_price\"]=cleaned_data[\"discounted_price\"].astype(float)"
   ]
  },
  {
   "cell_type": "code",
   "execution_count": 17,
   "id": "c9595d78-1d57-4f53-87ee-56611f4942d0",
   "metadata": {},
   "outputs": [],
   "source": [
    "cleaned_data[\"actual_price\"]=cleaned_data[\"actual_price\"].str.replace(\"₹\",\"\")\n",
    "cleaned_data[\"actual_price\"]=cleaned_data[\"actual_price\"].str.replace(\",\",\"\")\n",
    "cleaned_data[\"actual_price\"]=cleaned_data[\"actual_price\"].astype(float)"
   ]
  },
  {
   "cell_type": "code",
   "execution_count": 18,
   "id": "72275699-7f0c-4e9e-82b0-16568e77eac6",
   "metadata": {},
   "outputs": [],
   "source": [
    "cleaned_data[\"discount_percentage\"]=cleaned_data[\"discount_percentage\"].str.replace(\"%\",\"\")\n",
    "cleaned_data[\"discount_percentage\"]=cleaned_data[\"discount_percentage\"].astype(float)\n",
    "bins = [-1, 0, 20, 50, 100]\n",
    "labels=['無折扣', '折扣低於20%', '折扣介於20%-50%', '超過50%']\n",
    "cleaned_data[\"discount_group\"]=pd.cut(cleaned_data[\"discount_percentage\"],bins=bins,labels=labels)"
   ]
  },
  {
   "cell_type": "code",
   "execution_count": 19,
   "id": "361b2323-ef16-4df6-8faa-ff5e18f01998",
   "metadata": {},
   "outputs": [],
   "source": [
    "cleaned_data[\"rating\"]=cleaned_data[\"rating\"].str.replace(\".\",\"\")\n",
    "cleaned_data[\"rating\"]=cleaned_data[\"rating\"].str.replace(\"|\",\"\")\n",
    "cleaned_data[\"rating\"]=cleaned_data[\"rating\"].replace('',np.nan)\n",
    "cleaned_data[\"rating\"]=cleaned_data[\"rating\"].astype(float)\n",
    "cleaned_data[\"rating\"]=cleaned_data[\"rating\"]/10"
   ]
  },
  {
   "cell_type": "code",
   "execution_count": 20,
   "id": "e05563fa-e8b6-424f-b518-66c046fe05ea",
   "metadata": {},
   "outputs": [
    {
     "data": {
      "text/html": [
       "<div>\n",
       "<style scoped>\n",
       "    .dataframe tbody tr th:only-of-type {\n",
       "        vertical-align: middle;\n",
       "    }\n",
       "\n",
       "    .dataframe tbody tr th {\n",
       "        vertical-align: top;\n",
       "    }\n",
       "\n",
       "    .dataframe thead th {\n",
       "        text-align: right;\n",
       "    }\n",
       "</style>\n",
       "<table border=\"1\" class=\"dataframe\">\n",
       "  <thead>\n",
       "    <tr style=\"text-align: right;\">\n",
       "      <th></th>\n",
       "      <th>product_id</th>\n",
       "      <th>product_name</th>\n",
       "      <th>category</th>\n",
       "      <th>discounted_price</th>\n",
       "      <th>actual_price</th>\n",
       "      <th>discount_percentage</th>\n",
       "      <th>rating</th>\n",
       "      <th>rating_count</th>\n",
       "      <th>about_product</th>\n",
       "      <th>user_id</th>\n",
       "      <th>user_name</th>\n",
       "      <th>review_id</th>\n",
       "      <th>review_title</th>\n",
       "      <th>review_content</th>\n",
       "      <th>img_link</th>\n",
       "      <th>product_link</th>\n",
       "      <th>discount_group</th>\n",
       "    </tr>\n",
       "  </thead>\n",
       "  <tbody>\n",
       "    <tr>\n",
       "      <th>282</th>\n",
       "      <td>B0B94JPY2N</td>\n",
       "      <td>Amazon Brand - Solimo 65W Fast Charging Braide...</td>\n",
       "      <td>Computers&amp;Accessories|Accessories&amp;Peripherals|...</td>\n",
       "      <td>199.0</td>\n",
       "      <td>999.0</td>\n",
       "      <td>80.0</td>\n",
       "      <td>3.0</td>\n",
       "      <td>NaN</td>\n",
       "      <td>USB C to C Cable: This cable has type C connec...</td>\n",
       "      <td>AE7CFHY23VAJT2FI4NZKKP6GS2UQ</td>\n",
       "      <td>Pranav</td>\n",
       "      <td>RUB7U91HVZ30</td>\n",
       "      <td>The cable works but is not 65W as advertised</td>\n",
       "      <td>I have a pd supported car charger and I bought...</td>\n",
       "      <td>https://m.media-amazon.com/images/W/WEBP_40237...</td>\n",
       "      <td>https://www.amazon.in/Amazon-Brand-Charging-Su...</td>\n",
       "      <td>超過50%</td>\n",
       "    </tr>\n",
       "    <tr>\n",
       "      <th>324</th>\n",
       "      <td>B0BQRJ3C47</td>\n",
       "      <td>REDTECH USB-C to Lightning Cable 3.3FT, [Apple...</td>\n",
       "      <td>Computers&amp;Accessories|Accessories&amp;Peripherals|...</td>\n",
       "      <td>249.0</td>\n",
       "      <td>999.0</td>\n",
       "      <td>75.0</td>\n",
       "      <td>5.0</td>\n",
       "      <td>NaN</td>\n",
       "      <td>💎[The Fastest Charge] - This iPhone USB C cabl...</td>\n",
       "      <td>AGJC5O5H5BBXWUV7WRIEIOOR3TVQ</td>\n",
       "      <td>Abdul Gafur</td>\n",
       "      <td>RQXD5SAMMPC6L</td>\n",
       "      <td>Awesome Product</td>\n",
       "      <td>Quick delivery.Awesome ProductPacking was good...</td>\n",
       "      <td>https://m.media-amazon.com/images/I/31-q0xhaTA...</td>\n",
       "      <td>https://www.amazon.in/REDTECH-Lightning-Certif...</td>\n",
       "      <td>超過50%</td>\n",
       "    </tr>\n",
       "  </tbody>\n",
       "</table>\n",
       "</div>"
      ],
      "text/plain": [
       "     product_id                                       product_name  \\\n",
       "282  B0B94JPY2N  Amazon Brand - Solimo 65W Fast Charging Braide...   \n",
       "324  B0BQRJ3C47  REDTECH USB-C to Lightning Cable 3.3FT, [Apple...   \n",
       "\n",
       "                                              category  discounted_price  \\\n",
       "282  Computers&Accessories|Accessories&Peripherals|...             199.0   \n",
       "324  Computers&Accessories|Accessories&Peripherals|...             249.0   \n",
       "\n",
       "     actual_price  discount_percentage  rating rating_count  \\\n",
       "282         999.0                 80.0     3.0          NaN   \n",
       "324         999.0                 75.0     5.0          NaN   \n",
       "\n",
       "                                         about_product  \\\n",
       "282  USB C to C Cable: This cable has type C connec...   \n",
       "324  💎[The Fastest Charge] - This iPhone USB C cabl...   \n",
       "\n",
       "                          user_id    user_name      review_id  \\\n",
       "282  AE7CFHY23VAJT2FI4NZKKP6GS2UQ       Pranav   RUB7U91HVZ30   \n",
       "324  AGJC5O5H5BBXWUV7WRIEIOOR3TVQ  Abdul Gafur  RQXD5SAMMPC6L   \n",
       "\n",
       "                                     review_title  \\\n",
       "282  The cable works but is not 65W as advertised   \n",
       "324                               Awesome Product   \n",
       "\n",
       "                                        review_content  \\\n",
       "282  I have a pd supported car charger and I bought...   \n",
       "324  Quick delivery.Awesome ProductPacking was good...   \n",
       "\n",
       "                                              img_link  \\\n",
       "282  https://m.media-amazon.com/images/W/WEBP_40237...   \n",
       "324  https://m.media-amazon.com/images/I/31-q0xhaTA...   \n",
       "\n",
       "                                          product_link discount_group  \n",
       "282  https://www.amazon.in/Amazon-Brand-Charging-Su...          超過50%  \n",
       "324  https://www.amazon.in/REDTECH-Lightning-Certif...          超過50%  "
      ]
     },
     "execution_count": 20,
     "metadata": {},
     "output_type": "execute_result"
    }
   ],
   "source": [
    "cleaned_data[\"rating_count\"]=cleaned_data[\"rating_count\"].str.replace(\",\",\"\")\n",
    "cleaned_data[cleaned_data[\"rating_count\"].isnull()]"
   ]
  },
  {
   "cell_type": "code",
   "execution_count": 21,
   "id": "3a917ae0-d4bb-4e33-b669-9213f43166f1",
   "metadata": {},
   "outputs": [],
   "source": [
    "cleaned_data[\"rating_count\"]=cleaned_data[\"rating_count\"].fillna(0)\n",
    "cleaned_data[\"rating_count\"]=cleaned_data[\"rating_count\"].astype(int)\n",
    "cleaned_data[\"rating_count\"]=cleaned_data[\"rating_count\"].replace(\"0\",cleaned_data[\"rating_count\"].mean())"
   ]
  },
  {
   "cell_type": "code",
   "execution_count": 22,
   "id": "9c3e939d-85ea-47d2-8e25-4ee4cda16da0",
   "metadata": {},
   "outputs": [
    {
     "name": "stdout",
     "output_type": "stream",
     "text": [
      "<class 'pandas.core.frame.DataFrame'>\n",
      "RangeIndex: 1465 entries, 0 to 1464\n",
      "Data columns (total 17 columns):\n",
      " #   Column               Non-Null Count  Dtype   \n",
      "---  ------               --------------  -----   \n",
      " 0   product_id           1465 non-null   object  \n",
      " 1   product_name         1465 non-null   object  \n",
      " 2   category             1465 non-null   object  \n",
      " 3   discounted_price     1465 non-null   float64 \n",
      " 4   actual_price         1465 non-null   float64 \n",
      " 5   discount_percentage  1465 non-null   float64 \n",
      " 6   rating               1464 non-null   float64 \n",
      " 7   rating_count         1465 non-null   int64   \n",
      " 8   about_product        1465 non-null   object  \n",
      " 9   user_id              1465 non-null   object  \n",
      " 10  user_name            1465 non-null   object  \n",
      " 11  review_id            1465 non-null   object  \n",
      " 12  review_title         1465 non-null   object  \n",
      " 13  review_content       1465 non-null   object  \n",
      " 14  img_link             1465 non-null   object  \n",
      " 15  product_link         1465 non-null   object  \n",
      " 16  discount_group       1465 non-null   category\n",
      "dtypes: category(1), float64(4), int64(1), object(11)\n",
      "memory usage: 184.9+ KB\n"
     ]
    }
   ],
   "source": [
    "cleaned_data.info()"
   ]
  },
  {
   "cell_type": "markdown",
   "id": "8cd82874-e3e2-4ced-8acb-fe4422ff77df",
   "metadata": {},
   "source": [
    "#### 評估重複數據"
   ]
  },
  {
   "cell_type": "markdown",
   "id": "10462aa6-c0f8-4da9-90f7-be0a63b22e66",
   "metadata": {},
   "source": [
    "##### 各個變量中product_id和product_name不應該存在重複。"
   ]
  },
  {
   "cell_type": "code",
   "execution_count": 25,
   "id": "b4b4c8a9-68dd-4317-8bdd-6a4c10bc6099",
   "metadata": {},
   "outputs": [
    {
     "data": {
      "text/plain": [
       "114"
      ]
     },
     "execution_count": 25,
     "metadata": {},
     "output_type": "execute_result"
    }
   ],
   "source": [
    "cleaned_data[\"product_id\"].duplicated().sum()"
   ]
  },
  {
   "cell_type": "code",
   "execution_count": 26,
   "id": "88b44932-acb5-42f0-b977-d28617960487",
   "metadata": {},
   "outputs": [
    {
     "data": {
      "text/plain": [
       "product_id\n",
       "B07JW9H4J1    3\n",
       "B085DTN6R2    3\n",
       "B07XLCFSSN    3\n",
       "B077Z65HSD    3\n",
       "B09W5XR9RT    3\n",
       "             ..\n",
       "B0BNVBJW2S    1\n",
       "B09VZBGL1N    1\n",
       "B01F262EUU    1\n",
       "B0BBFJLP21    1\n",
       "B01486F4G6    1\n",
       "Name: count, Length: 1351, dtype: int64"
      ]
     },
     "execution_count": 26,
     "metadata": {},
     "output_type": "execute_result"
    }
   ],
   "source": [
    "cleaned_data[\"product_id\"].value_counts()"
   ]
  },
  {
   "cell_type": "code",
   "execution_count": 27,
   "id": "a2b87bb2-c405-4687-9c62-2b8bdd290d83",
   "metadata": {},
   "outputs": [
    {
     "data": {
      "text/html": [
       "<div>\n",
       "<style scoped>\n",
       "    .dataframe tbody tr th:only-of-type {\n",
       "        vertical-align: middle;\n",
       "    }\n",
       "\n",
       "    .dataframe tbody tr th {\n",
       "        vertical-align: top;\n",
       "    }\n",
       "\n",
       "    .dataframe thead th {\n",
       "        text-align: right;\n",
       "    }\n",
       "</style>\n",
       "<table border=\"1\" class=\"dataframe\">\n",
       "  <thead>\n",
       "    <tr style=\"text-align: right;\">\n",
       "      <th></th>\n",
       "      <th>product_id</th>\n",
       "      <th>product_name</th>\n",
       "      <th>category</th>\n",
       "      <th>discounted_price</th>\n",
       "      <th>actual_price</th>\n",
       "      <th>discount_percentage</th>\n",
       "      <th>rating</th>\n",
       "      <th>rating_count</th>\n",
       "      <th>about_product</th>\n",
       "      <th>user_id</th>\n",
       "      <th>user_name</th>\n",
       "      <th>review_id</th>\n",
       "      <th>review_title</th>\n",
       "      <th>review_content</th>\n",
       "      <th>img_link</th>\n",
       "      <th>product_link</th>\n",
       "      <th>discount_group</th>\n",
       "    </tr>\n",
       "  </thead>\n",
       "  <tbody>\n",
       "    <tr>\n",
       "      <th>0</th>\n",
       "      <td>B07JW9H4J1</td>\n",
       "      <td>Wayona Nylon Braided USB to Lightning Fast Cha...</td>\n",
       "      <td>Computers&amp;Accessories|Accessories&amp;Peripherals|...</td>\n",
       "      <td>399.0</td>\n",
       "      <td>1099.0</td>\n",
       "      <td>64.0</td>\n",
       "      <td>4.2</td>\n",
       "      <td>24269</td>\n",
       "      <td>High Compatibility : Compatible With iPhone 12...</td>\n",
       "      <td>AG3D6O4STAQKAY2UVGEUV46KN35Q,AHMY5CWJMMK5BJRBB...</td>\n",
       "      <td>Manav,Adarsh gupta,Sundeep,S.Sayeed Ahmed,jasp...</td>\n",
       "      <td>R3HXWT0LRP0NMF,R2AJM3LFTLZHFO,R6AQJGUP6P86,R1K...</td>\n",
       "      <td>Satisfied,Charging is really fast,Value for mo...</td>\n",
       "      <td>Looks durable Charging is fine tooNo complains...</td>\n",
       "      <td>https://m.media-amazon.com/images/W/WEBP_40237...</td>\n",
       "      <td>https://www.amazon.in/Wayona-Braided-WN3LG1-Sy...</td>\n",
       "      <td>超過50%</td>\n",
       "    </tr>\n",
       "    <tr>\n",
       "      <th>369</th>\n",
       "      <td>B07JW9H4J1</td>\n",
       "      <td>Wayona Nylon Braided USB to Lightning Fast Cha...</td>\n",
       "      <td>Computers&amp;Accessories|Accessories&amp;Peripherals|...</td>\n",
       "      <td>399.0</td>\n",
       "      <td>1099.0</td>\n",
       "      <td>64.0</td>\n",
       "      <td>4.2</td>\n",
       "      <td>24270</td>\n",
       "      <td>High Compatibility : Compatible With iPhone 12...</td>\n",
       "      <td>AG3D6O4STAQKAY2UVGEUV46KN35Q,AHMY5CWJMMK5BJRBB...</td>\n",
       "      <td>Manav,Adarsh gupta,Sundeep,S.Sayeed Ahmed,jasp...</td>\n",
       "      <td>R3HXWT0LRP0NMF,R2AJM3LFTLZHFO,R6AQJGUP6P86,R1K...</td>\n",
       "      <td>Satisfied,Charging is really fast,Value for mo...</td>\n",
       "      <td>Looks durable Charging is fine tooNo complains...</td>\n",
       "      <td>https://m.media-amazon.com/images/I/51UsScvHQN...</td>\n",
       "      <td>https://www.amazon.in/Wayona-Braided-WN3LG1-Sy...</td>\n",
       "      <td>超過50%</td>\n",
       "    </tr>\n",
       "    <tr>\n",
       "      <th>614</th>\n",
       "      <td>B07JW9H4J1</td>\n",
       "      <td>Wayona Nylon Braided USB to Lightning Fast Cha...</td>\n",
       "      <td>Computers&amp;Accessories|Accessories&amp;Peripherals|...</td>\n",
       "      <td>399.0</td>\n",
       "      <td>1099.0</td>\n",
       "      <td>64.0</td>\n",
       "      <td>4.2</td>\n",
       "      <td>24269</td>\n",
       "      <td>High Compatibility : Compatible With iPhone 12...</td>\n",
       "      <td>AG3D6O4STAQKAY2UVGEUV46KN35Q,AHMY5CWJMMK5BJRBB...</td>\n",
       "      <td>Manav,Adarsh gupta,Sundeep,S.Sayeed Ahmed,jasp...</td>\n",
       "      <td>R3HXWT0LRP0NMF,R2AJM3LFTLZHFO,R6AQJGUP6P86,R1K...</td>\n",
       "      <td>Satisfied,Charging is really fast,Value for mo...</td>\n",
       "      <td>Looks durable Charging is fine tooNo complains...</td>\n",
       "      <td>https://m.media-amazon.com/images/W/WEBP_40237...</td>\n",
       "      <td>https://www.amazon.in/Wayona-Braided-WN3LG1-Sy...</td>\n",
       "      <td>超過50%</td>\n",
       "    </tr>\n",
       "  </tbody>\n",
       "</table>\n",
       "</div>"
      ],
      "text/plain": [
       "     product_id                                       product_name  \\\n",
       "0    B07JW9H4J1  Wayona Nylon Braided USB to Lightning Fast Cha...   \n",
       "369  B07JW9H4J1  Wayona Nylon Braided USB to Lightning Fast Cha...   \n",
       "614  B07JW9H4J1  Wayona Nylon Braided USB to Lightning Fast Cha...   \n",
       "\n",
       "                                              category  discounted_price  \\\n",
       "0    Computers&Accessories|Accessories&Peripherals|...             399.0   \n",
       "369  Computers&Accessories|Accessories&Peripherals|...             399.0   \n",
       "614  Computers&Accessories|Accessories&Peripherals|...             399.0   \n",
       "\n",
       "     actual_price  discount_percentage  rating  rating_count  \\\n",
       "0          1099.0                 64.0     4.2         24269   \n",
       "369        1099.0                 64.0     4.2         24270   \n",
       "614        1099.0                 64.0     4.2         24269   \n",
       "\n",
       "                                         about_product  \\\n",
       "0    High Compatibility : Compatible With iPhone 12...   \n",
       "369  High Compatibility : Compatible With iPhone 12...   \n",
       "614  High Compatibility : Compatible With iPhone 12...   \n",
       "\n",
       "                                               user_id  \\\n",
       "0    AG3D6O4STAQKAY2UVGEUV46KN35Q,AHMY5CWJMMK5BJRBB...   \n",
       "369  AG3D6O4STAQKAY2UVGEUV46KN35Q,AHMY5CWJMMK5BJRBB...   \n",
       "614  AG3D6O4STAQKAY2UVGEUV46KN35Q,AHMY5CWJMMK5BJRBB...   \n",
       "\n",
       "                                             user_name  \\\n",
       "0    Manav,Adarsh gupta,Sundeep,S.Sayeed Ahmed,jasp...   \n",
       "369  Manav,Adarsh gupta,Sundeep,S.Sayeed Ahmed,jasp...   \n",
       "614  Manav,Adarsh gupta,Sundeep,S.Sayeed Ahmed,jasp...   \n",
       "\n",
       "                                             review_id  \\\n",
       "0    R3HXWT0LRP0NMF,R2AJM3LFTLZHFO,R6AQJGUP6P86,R1K...   \n",
       "369  R3HXWT0LRP0NMF,R2AJM3LFTLZHFO,R6AQJGUP6P86,R1K...   \n",
       "614  R3HXWT0LRP0NMF,R2AJM3LFTLZHFO,R6AQJGUP6P86,R1K...   \n",
       "\n",
       "                                          review_title  \\\n",
       "0    Satisfied,Charging is really fast,Value for mo...   \n",
       "369  Satisfied,Charging is really fast,Value for mo...   \n",
       "614  Satisfied,Charging is really fast,Value for mo...   \n",
       "\n",
       "                                        review_content  \\\n",
       "0    Looks durable Charging is fine tooNo complains...   \n",
       "369  Looks durable Charging is fine tooNo complains...   \n",
       "614  Looks durable Charging is fine tooNo complains...   \n",
       "\n",
       "                                              img_link  \\\n",
       "0    https://m.media-amazon.com/images/W/WEBP_40237...   \n",
       "369  https://m.media-amazon.com/images/I/51UsScvHQN...   \n",
       "614  https://m.media-amazon.com/images/W/WEBP_40237...   \n",
       "\n",
       "                                          product_link discount_group  \n",
       "0    https://www.amazon.in/Wayona-Braided-WN3LG1-Sy...          超過50%  \n",
       "369  https://www.amazon.in/Wayona-Braided-WN3LG1-Sy...          超過50%  \n",
       "614  https://www.amazon.in/Wayona-Braided-WN3LG1-Sy...          超過50%  "
      ]
     },
     "execution_count": 27,
     "metadata": {},
     "output_type": "execute_result"
    }
   ],
   "source": [
    "cleaned_data[cleaned_data[\"product_id\"]==\"B07JW9H4J1\"]"
   ]
  },
  {
   "cell_type": "code",
   "execution_count": 28,
   "id": "8cdc87df-851b-4bf4-819b-6e13b220fe4f",
   "metadata": {},
   "outputs": [
    {
     "data": {
      "text/html": [
       "<div>\n",
       "<style scoped>\n",
       "    .dataframe tbody tr th:only-of-type {\n",
       "        vertical-align: middle;\n",
       "    }\n",
       "\n",
       "    .dataframe tbody tr th {\n",
       "        vertical-align: top;\n",
       "    }\n",
       "\n",
       "    .dataframe thead th {\n",
       "        text-align: right;\n",
       "    }\n",
       "</style>\n",
       "<table border=\"1\" class=\"dataframe\">\n",
       "  <thead>\n",
       "    <tr style=\"text-align: right;\">\n",
       "      <th></th>\n",
       "      <th>product_id</th>\n",
       "      <th>product_name</th>\n",
       "      <th>category</th>\n",
       "      <th>discounted_price</th>\n",
       "      <th>actual_price</th>\n",
       "      <th>discount_percentage</th>\n",
       "      <th>rating</th>\n",
       "      <th>rating_count</th>\n",
       "      <th>about_product</th>\n",
       "      <th>user_id</th>\n",
       "      <th>user_name</th>\n",
       "      <th>review_id</th>\n",
       "      <th>review_title</th>\n",
       "      <th>review_content</th>\n",
       "      <th>img_link</th>\n",
       "      <th>product_link</th>\n",
       "      <th>discount_group</th>\n",
       "    </tr>\n",
       "  </thead>\n",
       "  <tbody>\n",
       "    <tr>\n",
       "      <th>13</th>\n",
       "      <td>B085DTN6R2</td>\n",
       "      <td>Portronics Konnect CL 20W POR-1067 Type-C to 8...</td>\n",
       "      <td>Computers&amp;Accessories|Accessories&amp;Peripherals|...</td>\n",
       "      <td>350.0</td>\n",
       "      <td>899.0</td>\n",
       "      <td>61.0</td>\n",
       "      <td>4.2</td>\n",
       "      <td>2262</td>\n",
       "      <td>[20W PD FAST CHARGING]-It’s supports 20W PD qu...</td>\n",
       "      <td>AGUAYQHARAKR2VZTRP276KAGETKQ,AFKTST2773VUOKUHE...</td>\n",
       "      <td>Priya,Mansi,Plaban,Vivek,Taufique Ahmed,Pravee...</td>\n",
       "      <td>R1QETDIPRCX4S0,RARQYQ8POOFA9,R952F931MCOR5,R3L...</td>\n",
       "      <td>Works,Nice Product,Fast Charging as original,G...</td>\n",
       "      <td>Definitely isn’t as good as the original cord ...</td>\n",
       "      <td>https://m.media-amazon.com/images/I/31J6qGhAL9...</td>\n",
       "      <td>https://www.amazon.in/Portronics-Konnect-Deliv...</td>\n",
       "      <td>超過50%</td>\n",
       "    </tr>\n",
       "    <tr>\n",
       "      <th>454</th>\n",
       "      <td>B085DTN6R2</td>\n",
       "      <td>Portronics Konnect CL 20W POR-1067 Type-C to 8...</td>\n",
       "      <td>Computers&amp;Accessories|Accessories&amp;Peripherals|...</td>\n",
       "      <td>350.0</td>\n",
       "      <td>899.0</td>\n",
       "      <td>61.0</td>\n",
       "      <td>4.2</td>\n",
       "      <td>2263</td>\n",
       "      <td>[20W PD FAST CHARGING]-It’s supports 20W PD qu...</td>\n",
       "      <td>AGUAYQHARAKR2VZTRP276KAGETKQ,AFKTST2773VUOKUHE...</td>\n",
       "      <td>Priya,Mansi,Plaban,Vivek,Taufique Ahmed,Pravee...</td>\n",
       "      <td>R1QETDIPRCX4S0,RARQYQ8POOFA9,R952F931MCOR5,R3L...</td>\n",
       "      <td>Works,Nice Product,Fast Charging as original,G...</td>\n",
       "      <td>Definitely isn’t as good as the original cord ...</td>\n",
       "      <td>https://m.media-amazon.com/images/I/31J6qGhAL9...</td>\n",
       "      <td>https://www.amazon.in/Portronics-Konnect-Deliv...</td>\n",
       "      <td>超過50%</td>\n",
       "    </tr>\n",
       "    <tr>\n",
       "      <th>689</th>\n",
       "      <td>B085DTN6R2</td>\n",
       "      <td>Portronics Konnect CL 20W POR-1067 Type-C to 8...</td>\n",
       "      <td>Computers&amp;Accessories|Accessories&amp;Peripherals|...</td>\n",
       "      <td>350.0</td>\n",
       "      <td>899.0</td>\n",
       "      <td>61.0</td>\n",
       "      <td>4.2</td>\n",
       "      <td>2262</td>\n",
       "      <td>[20W PD FAST CHARGING]-It’s supports 20W PD qu...</td>\n",
       "      <td>AGUAYQHARAKR2VZTRP276KAGETKQ,AFKTST2773VUOKUHE...</td>\n",
       "      <td>Priya,Mansi,Plaban,Vivek,Taufique Ahmed,Pravee...</td>\n",
       "      <td>R1QETDIPRCX4S0,RARQYQ8POOFA9,R952F931MCOR5,R3L...</td>\n",
       "      <td>Works,Nice Product,Fast Charging as original,G...</td>\n",
       "      <td>Definitely isn’t as good as the original cord ...</td>\n",
       "      <td>https://m.media-amazon.com/images/I/31J6qGhAL9...</td>\n",
       "      <td>https://www.amazon.in/Portronics-Konnect-Deliv...</td>\n",
       "      <td>超過50%</td>\n",
       "    </tr>\n",
       "  </tbody>\n",
       "</table>\n",
       "</div>"
      ],
      "text/plain": [
       "     product_id                                       product_name  \\\n",
       "13   B085DTN6R2  Portronics Konnect CL 20W POR-1067 Type-C to 8...   \n",
       "454  B085DTN6R2  Portronics Konnect CL 20W POR-1067 Type-C to 8...   \n",
       "689  B085DTN6R2  Portronics Konnect CL 20W POR-1067 Type-C to 8...   \n",
       "\n",
       "                                              category  discounted_price  \\\n",
       "13   Computers&Accessories|Accessories&Peripherals|...             350.0   \n",
       "454  Computers&Accessories|Accessories&Peripherals|...             350.0   \n",
       "689  Computers&Accessories|Accessories&Peripherals|...             350.0   \n",
       "\n",
       "     actual_price  discount_percentage  rating  rating_count  \\\n",
       "13          899.0                 61.0     4.2          2262   \n",
       "454         899.0                 61.0     4.2          2263   \n",
       "689         899.0                 61.0     4.2          2262   \n",
       "\n",
       "                                         about_product  \\\n",
       "13   [20W PD FAST CHARGING]-It’s supports 20W PD qu...   \n",
       "454  [20W PD FAST CHARGING]-It’s supports 20W PD qu...   \n",
       "689  [20W PD FAST CHARGING]-It’s supports 20W PD qu...   \n",
       "\n",
       "                                               user_id  \\\n",
       "13   AGUAYQHARAKR2VZTRP276KAGETKQ,AFKTST2773VUOKUHE...   \n",
       "454  AGUAYQHARAKR2VZTRP276KAGETKQ,AFKTST2773VUOKUHE...   \n",
       "689  AGUAYQHARAKR2VZTRP276KAGETKQ,AFKTST2773VUOKUHE...   \n",
       "\n",
       "                                             user_name  \\\n",
       "13   Priya,Mansi,Plaban,Vivek,Taufique Ahmed,Pravee...   \n",
       "454  Priya,Mansi,Plaban,Vivek,Taufique Ahmed,Pravee...   \n",
       "689  Priya,Mansi,Plaban,Vivek,Taufique Ahmed,Pravee...   \n",
       "\n",
       "                                             review_id  \\\n",
       "13   R1QETDIPRCX4S0,RARQYQ8POOFA9,R952F931MCOR5,R3L...   \n",
       "454  R1QETDIPRCX4S0,RARQYQ8POOFA9,R952F931MCOR5,R3L...   \n",
       "689  R1QETDIPRCX4S0,RARQYQ8POOFA9,R952F931MCOR5,R3L...   \n",
       "\n",
       "                                          review_title  \\\n",
       "13   Works,Nice Product,Fast Charging as original,G...   \n",
       "454  Works,Nice Product,Fast Charging as original,G...   \n",
       "689  Works,Nice Product,Fast Charging as original,G...   \n",
       "\n",
       "                                        review_content  \\\n",
       "13   Definitely isn’t as good as the original cord ...   \n",
       "454  Definitely isn’t as good as the original cord ...   \n",
       "689  Definitely isn’t as good as the original cord ...   \n",
       "\n",
       "                                              img_link  \\\n",
       "13   https://m.media-amazon.com/images/I/31J6qGhAL9...   \n",
       "454  https://m.media-amazon.com/images/I/31J6qGhAL9...   \n",
       "689  https://m.media-amazon.com/images/I/31J6qGhAL9...   \n",
       "\n",
       "                                          product_link discount_group  \n",
       "13   https://www.amazon.in/Portronics-Konnect-Deliv...          超過50%  \n",
       "454  https://www.amazon.in/Portronics-Konnect-Deliv...          超過50%  \n",
       "689  https://www.amazon.in/Portronics-Konnect-Deliv...          超過50%  "
      ]
     },
     "execution_count": 28,
     "metadata": {},
     "output_type": "execute_result"
    }
   ],
   "source": [
    "cleaned_data[cleaned_data[\"product_id\"]==\"B085DTN6R2\"]"
   ]
  },
  {
   "cell_type": "markdown",
   "id": "089986c7-bafb-46ac-a07b-677d02075c3e",
   "metadata": {},
   "source": [
    "##### product_id和product_name存在重複，每筆數據內容皆相同，因此需做清理。"
   ]
  },
  {
   "cell_type": "code",
   "execution_count": 30,
   "id": "9ebd1154-6f34-4694-a3db-bc87de386a7d",
   "metadata": {},
   "outputs": [],
   "source": [
    "cleaned_data=cleaned_data.drop_duplicates(subset=[\"product_id\",\"product_name\"])"
   ]
  },
  {
   "cell_type": "code",
   "execution_count": 31,
   "id": "5375d634-f233-4500-8330-935077f9f307",
   "metadata": {},
   "outputs": [
    {
     "name": "stdout",
     "output_type": "stream",
     "text": [
      "<class 'pandas.core.frame.DataFrame'>\n",
      "Index: 1351 entries, 0 to 1464\n",
      "Data columns (total 17 columns):\n",
      " #   Column               Non-Null Count  Dtype   \n",
      "---  ------               --------------  -----   \n",
      " 0   product_id           1351 non-null   object  \n",
      " 1   product_name         1351 non-null   object  \n",
      " 2   category             1351 non-null   object  \n",
      " 3   discounted_price     1351 non-null   float64 \n",
      " 4   actual_price         1351 non-null   float64 \n",
      " 5   discount_percentage  1351 non-null   float64 \n",
      " 6   rating               1350 non-null   float64 \n",
      " 7   rating_count         1351 non-null   int64   \n",
      " 8   about_product        1351 non-null   object  \n",
      " 9   user_id              1351 non-null   object  \n",
      " 10  user_name            1351 non-null   object  \n",
      " 11  review_id            1351 non-null   object  \n",
      " 12  review_title         1351 non-null   object  \n",
      " 13  review_content       1351 non-null   object  \n",
      " 14  img_link             1351 non-null   object  \n",
      " 15  product_link         1351 non-null   object  \n",
      " 16  discount_group       1351 non-null   category\n",
      "dtypes: category(1), float64(4), int64(1), object(11)\n",
      "memory usage: 180.9+ KB\n"
     ]
    }
   ],
   "source": [
    "cleaned_data.info()"
   ]
  },
  {
   "cell_type": "markdown",
   "id": "3e6115c3-7b67-4e1e-bf26-ae2fe4ec7cd5",
   "metadata": {},
   "source": [
    "#### 處理無效或錯誤數據"
   ]
  },
  {
   "cell_type": "code",
   "execution_count": 33,
   "id": "b7e6de75-032a-4ac7-9dd7-695ef9d29f41",
   "metadata": {},
   "outputs": [
    {
     "data": {
      "text/html": [
       "<div>\n",
       "<style scoped>\n",
       "    .dataframe tbody tr th:only-of-type {\n",
       "        vertical-align: middle;\n",
       "    }\n",
       "\n",
       "    .dataframe tbody tr th {\n",
       "        vertical-align: top;\n",
       "    }\n",
       "\n",
       "    .dataframe thead th {\n",
       "        text-align: right;\n",
       "    }\n",
       "</style>\n",
       "<table border=\"1\" class=\"dataframe\">\n",
       "  <thead>\n",
       "    <tr style=\"text-align: right;\">\n",
       "      <th></th>\n",
       "      <th>discounted_price</th>\n",
       "      <th>actual_price</th>\n",
       "      <th>discount_percentage</th>\n",
       "      <th>rating</th>\n",
       "      <th>rating_count</th>\n",
       "    </tr>\n",
       "  </thead>\n",
       "  <tbody>\n",
       "    <tr>\n",
       "      <th>count</th>\n",
       "      <td>1351.000000</td>\n",
       "      <td>1351.000000</td>\n",
       "      <td>1351.000000</td>\n",
       "      <td>1350.000000</td>\n",
       "      <td>1351.000000</td>\n",
       "    </tr>\n",
       "    <tr>\n",
       "      <th>mean</th>\n",
       "      <td>3304.801754</td>\n",
       "      <td>5691.176625</td>\n",
       "      <td>46.685418</td>\n",
       "      <td>3.949852</td>\n",
       "      <td>17618.373797</td>\n",
       "    </tr>\n",
       "    <tr>\n",
       "      <th>std</th>\n",
       "      <td>7173.975455</td>\n",
       "      <td>11218.666235</td>\n",
       "      <td>21.632611</td>\n",
       "      <td>0.781739</td>\n",
       "      <td>42119.882419</td>\n",
       "    </tr>\n",
       "    <tr>\n",
       "      <th>min</th>\n",
       "      <td>39.000000</td>\n",
       "      <td>39.000000</td>\n",
       "      <td>0.000000</td>\n",
       "      <td>0.200000</td>\n",
       "      <td>0.000000</td>\n",
       "    </tr>\n",
       "    <tr>\n",
       "      <th>25%</th>\n",
       "      <td>349.000000</td>\n",
       "      <td>899.000000</td>\n",
       "      <td>31.000000</td>\n",
       "      <td>3.900000</td>\n",
       "      <td>1094.500000</td>\n",
       "    </tr>\n",
       "    <tr>\n",
       "      <th>50%</th>\n",
       "      <td>899.000000</td>\n",
       "      <td>1795.000000</td>\n",
       "      <td>49.000000</td>\n",
       "      <td>4.100000</td>\n",
       "      <td>4736.000000</td>\n",
       "    </tr>\n",
       "    <tr>\n",
       "      <th>75%</th>\n",
       "      <td>2174.000000</td>\n",
       "      <td>4575.000000</td>\n",
       "      <td>62.000000</td>\n",
       "      <td>4.300000</td>\n",
       "      <td>15995.000000</td>\n",
       "    </tr>\n",
       "    <tr>\n",
       "      <th>max</th>\n",
       "      <td>77990.000000</td>\n",
       "      <td>139900.000000</td>\n",
       "      <td>94.000000</td>\n",
       "      <td>5.000000</td>\n",
       "      <td>426973.000000</td>\n",
       "    </tr>\n",
       "  </tbody>\n",
       "</table>\n",
       "</div>"
      ],
      "text/plain": [
       "       discounted_price   actual_price  discount_percentage       rating  \\\n",
       "count       1351.000000    1351.000000          1351.000000  1350.000000   \n",
       "mean        3304.801754    5691.176625            46.685418     3.949852   \n",
       "std         7173.975455   11218.666235            21.632611     0.781739   \n",
       "min           39.000000      39.000000             0.000000     0.200000   \n",
       "25%          349.000000     899.000000            31.000000     3.900000   \n",
       "50%          899.000000    1795.000000            49.000000     4.100000   \n",
       "75%         2174.000000    4575.000000            62.000000     4.300000   \n",
       "max        77990.000000  139900.000000            94.000000     5.000000   \n",
       "\n",
       "        rating_count  \n",
       "count    1351.000000  \n",
       "mean    17618.373797  \n",
       "std     42119.882419  \n",
       "min         0.000000  \n",
       "25%      1094.500000  \n",
       "50%      4736.000000  \n",
       "75%     15995.000000  \n",
       "max    426973.000000  "
      ]
     },
     "execution_count": 33,
     "metadata": {},
     "output_type": "execute_result"
    }
   ],
   "source": [
    "cleaned_data.describe()"
   ]
  },
  {
   "cell_type": "markdown",
   "id": "ae5f0214-e838-4cf8-9495-34a7d9f4770c",
   "metadata": {},
   "source": [
    "##### rating存在缺失值，因為是分析中數據，因此刪除此筆觀察值。"
   ]
  },
  {
   "cell_type": "code",
   "execution_count": 35,
   "id": "408eb355-45b8-4ae5-bf17-a1a9705a5996",
   "metadata": {},
   "outputs": [],
   "source": [
    "cleaned_data.dropna(subset=[\"rating\"],inplace=True)"
   ]
  },
  {
   "cell_type": "code",
   "execution_count": 36,
   "id": "5065da56-598e-4d2f-a404-f2beb2e1e666",
   "metadata": {},
   "outputs": [],
   "source": [
    "cleaned_data.to_csv(\"amazon_cleaned.csv\")"
   ]
  },
  {
   "cell_type": "markdown",
   "id": "845b6d12-6135-4f77-beae-09e6fafe1e69",
   "metadata": {},
   "source": [
    "### 探索數據"
   ]
  },
  {
   "cell_type": "code",
   "execution_count": 38,
   "id": "9486f8ad-d45b-41c3-aa9c-45f1abef3062",
   "metadata": {},
   "outputs": [],
   "source": [
    "import matplotlib.pyplot as plt\n",
    "import seaborn as sns\n",
    "sns.set_palette(\"pastel\")\n",
    "plt.rcParams['font.family'] = 'AppleGothic' \n",
    "plt.rcParams['axes.unicode_minus'] = False"
   ]
  },
  {
   "cell_type": "markdown",
   "id": "53c18136-0bba-481c-9602-977204c44a1e",
   "metadata": {},
   "source": [
    "##### 分析消費者評分及折扣分佈"
   ]
  },
  {
   "cell_type": "code",
   "execution_count": 114,
   "id": "226d3a2d-11a6-4fe3-a18b-90aeed0ce7ac",
   "metadata": {},
   "outputs": [
    {
     "name": "stderr",
     "output_type": "stream",
     "text": [
      "/opt/anaconda3/lib/python3.12/site-packages/IPython/core/pylabtools.py:170: UserWarning: Glyph 25187 (\\N{CJK UNIFIED IDEOGRAPH-6263}) missing from font(s) AppleGothic.\n",
      "  fig.canvas.print_figure(bytes_io, **kw)\n"
     ]
    },
    {
     "data": {
      "image/png": "[encoded data removed]",
      "text/plain": [
       "<Figure size 1000x500 with 2 Axes>"
      ]
     },
     "metadata": {},
     "output_type": "display_data"
    }
   ],
   "source": [
    "fig,axes=plt.subplots(1,2,figsize=(10,5))\n",
    "sns.histplot(cleaned_data,x=\"rating\",ax=axes[0])\n",
    "discount_group_count=cleaned_data[\"discount_group\"].value_counts()\n",
    "discount_group_labels=discount_group_count.index\n",
    "axes[1].pie(discount_group_count,labels=discount_group_labels,autopct=\"%.0f%%\")\n",
    "plt.show()"
   ]
  },
  {
   "cell_type": "markdown",
   "id": "926bdc0e-905a-49fa-88a4-b3e82cf418e6",
   "metadata": {},
   "source": [
    "##### 大部分產品評分介在3~5分之間。\n",
    "##### 大部分產品折扣超過20%。"
   ]
  },
  {
   "cell_type": "markdown",
   "id": "80fab8cf-16e9-408f-8070-f2e0002c300b",
   "metadata": {},
   "source": [
    "#### 消費者評分與折扣多寡的關係"
   ]
  },
  {
   "cell_type": "code",
   "execution_count": 43,
   "id": "be010310-61c7-42b5-9ebc-b2f4d5d2abe8",
   "metadata": {},
   "outputs": [
    {
     "data": {
      "text/plain": [
       "<Axes: xlabel='discount_group', ylabel='rating'>"
      ]
     },
     "execution_count": 43,
     "metadata": {},
     "output_type": "execute_result"
    },
    {
     "name": "stderr",
     "output_type": "stream",
     "text": [
      "/opt/anaconda3/lib/python3.12/site-packages/IPython/core/events.py:82: UserWarning: Glyph 25187 (\\N{CJK UNIFIED IDEOGRAPH-6263}) missing from font(s) AppleGothic.\n",
      "  func(*args, **kwargs)\n",
      "/opt/anaconda3/lib/python3.12/site-packages/IPython/core/pylabtools.py:170: UserWarning: Glyph 25187 (\\N{CJK UNIFIED IDEOGRAPH-6263}) missing from font(s) AppleGothic.\n",
      "  fig.canvas.print_figure(bytes_io, **kw)\n"
     ]
    },
    {
     "data": {
      "image/png": "[encoded data removed]",
      "text/plain": [
       "<Figure size 1000x500 with 1 Axes>"
      ]
     },
     "metadata": {},
     "output_type": "display_data"
    }
   ],
   "source": [
    "fig,axes=plt.subplots(1,1,figsize=(10,5))\n",
    "sns.barplot(cleaned_data,x=\"discount_group\",y=\"rating\")"
   ]
  },
  {
   "cell_type": "markdown",
   "id": "8174d665-7381-45e5-bf02-1cbd15488637",
   "metadata": {},
   "source": [
    "##### 從上述圖表看不出折扣多寡對於消費者評分有明顯差異。"
   ]
  },
  {
   "cell_type": "markdown",
   "id": "99296c4f-8540-4b85-81a7-30327cf0799b",
   "metadata": {},
   "source": [
    "### 分析數據"
   ]
  },
  {
   "cell_type": "markdown",
   "id": "3a43bef6-f116-4cfb-8852-2ac05965ba7f",
   "metadata": {},
   "source": [
    "#### 建立假設"
   ]
  },
  {
   "cell_type": "markdown",
   "id": "55f50ba8-0026-476a-bc1a-688c7b394117",
   "metadata": {},
   "source": [
    "##### 假設樣本服從常態分配，採用單因子變異數分析數據，顯著水準設為0.05。"
   ]
  },
  {
   "cell_type": "markdown",
   "id": "1db40752-220b-49bf-9ee8-0be39344e50f",
   "metadata": {},
   "source": [
    "##### $H_0$:四個折扣區間的消費者評分無顯著差異。\n",
    "##### $H_1$:四個折扣區間的消費者評分有顯著差異。"
   ]
  },
  {
   "cell_type": "code",
   "execution_count": 92,
   "id": "3b18857c-66a9-41b8-a671-8875d29eef7e",
   "metadata": {},
   "outputs": [],
   "source": [
    "import scipy.stats as stats\n",
    "\n",
    "group_1 = cleaned_data[cleaned_data[\"discount_group\"] == \"無折扣\"][\"rating\"]\n",
    "group_2 = cleaned_data[cleaned_data[\"discount_group\"] == \"折扣低於20%\"][\"rating\"]\n",
    "group_3 = cleaned_data[cleaned_data[\"discount_group\"] == \"折扣介於20%-50%\"][\"rating\"]\n",
    "group_4 = cleaned_data[cleaned_data[\"discount_group\"] == \"超過50%\"][\"rating\"]"
   ]
  },
  {
   "cell_type": "code",
   "execution_count": 118,
   "id": "048ad60b-a942-436a-a75a-50a2db1a80c0",
   "metadata": {},
   "outputs": [
    {
     "name": "stdout",
     "output_type": "stream",
     "text": [
      "p值為:0.384866671734253，大於0.05，因此接受原假設，表示四個折扣區間的消費者評分無顯著差異。\n"
     ]
    }
   ],
   "source": [
    "f_stat, p_value = stats.f_oneway(group_1, group_2, group_3, group_4)\n",
    "if p_value < 0.05:\n",
    "    print(f\"p值為:{p_value}，小於0.05，因此拒絕原假設，表示四個折扣區間的消費者評分有顯著差異。\")\n",
    "else:\n",
    "    print(f\"p值為:{p_value}，大於0.05，因此接受原假設，表示四個折扣區間的消費者評分無顯著差異。\")"
   ]
  },
  {
   "cell_type": "markdown",
   "id": "58658eac-b3ea-487c-bb3b-8c2feeaa8f0e",
   "metadata": {},
   "source": [
    "### 結論"
   ]
  },
  {
   "cell_type": "markdown",
   "id": "991c8769-3ff6-486f-bb63-91b78e3ac849",
   "metadata": {},
   "source": [
    "##### 消費者評分與折扣的多寡並不存在顯著影響。"
   ]
  }
 ],
 "metadata": {
  "kernelspec": {
   "display_name": "Python [conda env:base] *",
   "language": "python",
   "name": "conda-base-py"
  },
  "language_info": {
   "codemirror_mode": {
    "name": "ipython",
    "version": 3
   },
   "file_extension": ".py",
   "mimetype": "text/x-python",
   "name": "python",
   "nbconvert_exporter": "python",
   "pygments_lexer": "ipython3",
   "version": "3.12.7"
  }
 },
 "nbformat": 4,
 "nbformat_minor": 5
}
